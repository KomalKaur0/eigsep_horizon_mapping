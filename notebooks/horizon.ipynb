{
 "cells": [
  {
   "cell_type": "markdown",
   "id": "94eb2b29",
   "metadata": {},
   "source": [
    "mapping horizons for eigsep"
   ]
  },
  {
   "cell_type": "code",
   "execution_count": 1,
   "id": "1c937943",
   "metadata": {},
   "outputs": [],
   "source": [
    "import numpy as np\n",
    "import matplotlib.pylab as plt\n",
    "from eigsep_terrain.marjum_dem import MarjumDEM as DEM\n",
    "import eigsep_terrain as et\n",
    "import eigsep_terrain.utils as etu\n",
    "import tqdm\n",
    "import healpy\n",
    "from image_class import Image"
   ]
  },
  {
   "cell_type": "code",
   "execution_count": null,
   "id": "c7e4817d",
   "metadata": {},
   "outputs": [],
   "source": [
    "# load image data\n",
    "straight_up = Image(pathname='/Users/komalkaur/Desktop/eigsep_stuff/horizon_mapping/crosshair-imgs/IMG_0765.PNG', \n",
    "            label='straight up', lat=39.247880, lon=-113.402623, alt=1698.0, heading=TODO,\n",
    "            angle_up=84.6, ver_weight=None, hor_weight=None, dis_weight=None)\n",
    "\n"
   ]
  },
  {
   "cell_type": "code",
   "execution_count": null,
   "id": "4fe0943f",
   "metadata": {},
   "outputs": [],
   "source": []
  }
 ],
 "metadata": {
  "kernelspec": {
   "display_name": "base",
   "language": "python",
   "name": "python3"
  },
  "language_info": {
   "codemirror_mode": {
    "name": "ipython",
    "version": 3
   },
   "file_extension": ".py",
   "mimetype": "text/x-python",
   "name": "python",
   "nbconvert_exporter": "python",
   "pygments_lexer": "ipython3",
   "version": "3.12.2"
  }
 },
 "nbformat": 4,
 "nbformat_minor": 5
}
