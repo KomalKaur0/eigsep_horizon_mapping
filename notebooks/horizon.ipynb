{
 "cells": [
  {
   "cell_type": "markdown",
   "id": "94eb2b29",
   "metadata": {},
   "source": [
    "mapping horizons for eigsep"
   ]
  },
  {
   "cell_type": "code",
   "execution_count": 1,
   "id": "1c937943",
   "metadata": {},
   "outputs": [],
   "source": [
    "import numpy as np\n",
    "import matplotlib.pylab as plt\n",
    "from eigsep_terrain.marjum_dem import MarjumDEM as DEM\n",
    "import eigsep_terrain as et\n",
    "import eigsep_terrain.utils as etu\n",
    "import tqdm\n",
    "import healpy\n",
    "from image_class import Image"
   ]
  },
  {
   "cell_type": "code",
   "execution_count": null,
   "id": "c7e4817d",
   "metadata": {},
   "outputs": [],
   "source": [
    "# load image data\n",
    "img0 = Image(pathname='/Users/komalkaur/Desktop/eigsep_stuff/horizon_mapping/crosshair-imgs/IMG_0765.PNG', \n",
    "            label='img0', lat=39.247880, lon=-113.402623, alt=1698.0, heading=88,\n",
    "            angle_up=84.6, ver_weight=None, hor_weight=None, dis_weight=None)\n",
    "\n",
    "img1 = Image(pathname='/Users/komalkaur/Desktop/eigsep_stuff/horizon_mapping/crosshair-imgs/IMG_0771.PNG', \n",
    "            label='img1', lat=39.247441, lon=-113.402693, alt=1659.0, heading=358,\n",
    "            angle_up=49.0, ver_weight=None, hor_weight=None, dis_weight=None)\n",
    "\n",
    "img2 = Image(pathname='/Users/komalkaur/Desktop/eigsep_stuff/horizon_mapping/crosshair-imgs/IMG_0773.PNG', \n",
    "            label='img2', lat=39.247880484, lon=-113.402730, alt=1695.0, heading=352,\n",
    "            angle_up=50, ver_weight=None, hor_weight=None, dis_weight=None)\n",
    "\n",
    "img3 = Image(pathname='/Users/komalkaur/Desktop/eigsep_stuff/horizon_mapping/crosshair-imgs/IMG_0785.PNG', \n",
    "            label='img3', lat=39.247797, lon=-113.402905, alt=1713.0, heading=166,\n",
    "            angle_up=84.8, ver_weight=None, hor_weight=None, dis_weight=None)\n",
    "\n",
    "img4 = Image(pathname='/Users/komalkaur/Desktop/eigsep_stuff/horizon_mapping/crosshair-imgs/IMG_0787.PNG', \n",
    "            label='img4', lat=39.247566, lon=-113.402991, alt=1746.0, heading=150,\n",
    "            angle_up=85.0, ver_weight=None, hor_weight=None, dis_weight=None)\n",
    "\n",
    "img5 = Image(pathname='/Users/komalkaur/Desktop/eigsep_stuff/horizon_mapping/crosshair-imgs/IMG_0820.PNG', \n",
    "            label='img5', lat=39.248385, lon=-113.401491, alt=1761.0, heading=236,\n",
    "            angle_up=13.0, ver_weight=None, hor_weight=None, dis_weight=None)\n",
    "\n",
    "img6 = Image(pathname='/Users/komalkaur/Desktop/eigsep_stuff/horizon_mapping/crosshair-imgs/IMG_0886.PNG', \n",
    "            label='img6', lat=39.248631, lon=-113.404227, alt=1834.0, heading=133,\n",
    "            angle_up=-17.3, ver_weight=None, hor_weight=None, dis_weight=None)\n",
    "\n",
    "img7 = Image(pathname='/Users/komalkaur/Desktop/eigsep_stuff/horizon_mapping/crosshair-imgs/IMG_0825, \n",
    "            label='img6', lat=39.248400, lon=-113.401572, alt=1759.0, heading=240,\n",
    "            angle_up=17.4, ver_weight=None, hor_weight=None, dis_weight=None)\n"
   ]
  },
  {
   "cell_type": "code",
   "execution_count": null,
   "id": "e5b19cd4",
   "metadata": {},
   "outputs": [],
   "source": [
    ".PNG', \n",
    "            label='img7', lat=39.247880, lon=-113.402623, alt=1698.0, heading=88,\n",
    "            angle_up=84.6, ver_weight=None, hor_weight=None, dis_weight=None)\n"
   ]
  },
  {
   "cell_type": "code",
   "execution_count": null,
   "id": "4fe0943f",
   "metadata": {},
   "outputs": [],
   "source": []
  }
 ],
 "metadata": {
  "kernelspec": {
   "display_name": "base",
   "language": "python",
   "name": "python3"
  },
  "language_info": {
   "codemirror_mode": {
    "name": "ipython",
    "version": 3
   },
   "file_extension": ".py",
   "mimetype": "text/x-python",
   "name": "python",
   "nbconvert_exporter": "python",
   "pygments_lexer": "ipython3",
   "version": "3.12.2"
  }
 },
 "nbformat": 4,
 "nbformat_minor": 5
}
